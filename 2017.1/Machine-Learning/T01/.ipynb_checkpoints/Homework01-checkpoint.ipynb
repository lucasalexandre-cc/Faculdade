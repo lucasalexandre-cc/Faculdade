{
 "cells": [
  {
   "cell_type": "markdown",
   "metadata": {},
   "source": [
    "# Machine Learning"
   ]
  },
  {
   "cell_type": "markdown",
   "metadata": {},
   "source": [
    "### Projeto 01: implementando algoritmos de classificação"
   ]
  },
  {
   "cell_type": "markdown",
   "metadata": {},
   "source": [
    "# 01 - Introdução"
   ]
  },
  {
   "cell_type": "markdown",
   "metadata": {},
   "source": [
    "- O trabalho consiste na criação de dois algoritmos de predição, implementados manualmente sem uso de APIs como o Scikit-Learn. Deve-se usar técnicas de análise de erros para compara-los entre si, a fim de identificar diferenças nos resultados finais das duas implementações.  \n",
    "- Usaremos o \"The Iris flower data set\" para testar nosso algoritmos e comparar os resultados."
   ]
  },
  {
   "cell_type": "markdown",
   "metadata": {},
   "source": [
    "# 02 - Naive Bayes"
   ]
  },
  {
   "cell_type": "markdown",
   "metadata": {},
   "source": [
    "- É uma técnica de classificação baseado no teorema de Bayes com uma suposição de independência entre os preditores. O classificador assume que a presença de uma característica particular em uma classe não está relacionada com a presença de qualquer outro recurso. Por exemplo, uma planta 'Iris' pode ser considerado uma 'Iris Setosa' a partir da largura de seu caule, das suas pétalas, etc. Mesmo que esses recursos dependam uns dos outros ou da existência de outras características, todas estas propriedades contribuem de forma independente para a probabilidade de que esta planta é uma 'Iris Setosa' e é por isso que é conhecido como ‘Naive’ (ingênuo em portugues). Apesar de simples, Naive Bayes é conhecido por ganhar de métodos de classificação altamente sofisticados."
   ]
  },
  {
   "cell_type": "markdown",
   "metadata": {},
   "source": [
    "### Pontos positivos desse método"
   ]
  },
  {
   "cell_type": "markdown",
   "metadata": {},
   "source": [
    "- É fácil e rápido para prever o conjunto de dados da classe de teste. Também tem um bom desempenho na previsão de classes múltiplas.\n",
    "- Quando a suposição de independência prevalece, um classificador Naive Bayes tem melhor desempenho em comparação com outros modelos como regressão logística"
   ]
  },
  {
   "cell_type": "markdown",
   "metadata": {},
   "source": [
    "### Pontos negativos desse método"
   ]
  },
  {
   "cell_type": "markdown",
   "metadata": {},
   "source": [
    "- Se a variável categórica tem uma categoria (no conjunto de dados de teste) que não foi observada no conjunto de dados de treinamento, então o modelo irá atribuir uma probabilidade de 0 (zero) e não será capaz de fazer uma previsão. \n",
    "- Outra limitação do Naive Bayes é a suposição de preditores independentes. Na vida real, é quase impossível que ter um conjunto de indicadores que sejam completamente independentes."
   ]
  },
  {
   "cell_type": "markdown",
   "metadata": {},
   "source": [
    "## Passo a passo da implementação "
   ]
  },
  {
   "cell_type": "markdown",
   "metadata": {},
   "source": [
    "### Criando a classe:"
   ]
  },
  {
   "cell_type": "code",
   "execution_count": null,
   "metadata": {
    "collapsed": true
   },
   "outputs": [],
   "source": [
    "class NaiveBayes(object):"
   ]
  },
  {
   "cell_type": "markdown",
   "metadata": {},
   "source": [
    "### Método Construtor:"
   ]
  },
  {
   "cell_type": "markdown",
   "metadata": {},
   "source": [
    "- Receberá como argumento (opcional) um valor que será atribuído a variável 'percent'. Ela é usada para identificar proximidades entre objetos dentro do aprendizado (default = 0.3)."
   ]
  },
  {
   "cell_type": "code",
   "execution_count": null,
   "metadata": {
    "collapsed": true
   },
   "outputs": [],
   "source": [
    "    def __init__(self, percent=0.3):\n",
    "        self.percent = percent"
   ]
  },
  {
   "cell_type": "markdown",
   "metadata": {},
   "source": [
    "### Método Learn:"
   ]
  },
  {
   "cell_type": "markdown",
   "metadata": {},
   "source": [
    "- Receberá um conjunto de dados (X:matriz 2d, Y:array 1d), e criará atributos organizando esses dados, com intuito de permitir e otimizar a criação do método predict posteriormente"
   ]
  },
  {
   "cell_type": "code",
   "execution_count": null,
   "metadata": {
    "collapsed": true
   },
   "outputs": [],
   "source": [
    "    def learn(self, X, Y):\n",
    "        \"\"\"\n",
    "            unique: Targets\n",
    "            counts: Número de vezes que a Target aparece\n",
    "        \"\"\"\n",
    "        unique, counts = np.unique(Y, return_counts=True)\n",
    "        \n",
    "\n",
    "        \"\"\"\n",
    "            Criando dicionario de previsão inicial. \n",
    "            Key = Target\n",
    "            Value = (Quantidades de vezes que o Target aparece) / (total de elementos no array Y)\n",
    "        \"\"\"\n",
    "        self.prob_inicial = dict(zip(unique, counts/len(Y)))\n",
    "        \n",
    "\n",
    "        \"\"\"\n",
    "            Criando dicionario para auxiliar nas contas\n",
    "            Key = Targets\n",
    "            Value = (Quantidade de vezes que a Target aparece)\n",
    "        \"\"\"\n",
    "        self.prob_aux = dict(zip(unique,counts))\n",
    "        \n",
    "\n",
    "        \"\"\"\n",
    "            Criando dicionário para armazenar os valores de X e Y de forma organizada\n",
    "            Key = Targets\n",
    "            Value = Matriz, onde as linhas serão todos os arrays de features que correspondem ao Target\n",
    "        \"\"\"\n",
    "        self.data = {}\n",
    "        Y2 = set(Y)\n",
    "        for i in Y2:\n",
    "            self.data[i] = []\n",
    "        for i in range(len(Y)):\n",
    "            self.data[Y[i]].append(X[i])\n",
    "            \n",
    "        return self #retorna o objeto"
   ]
  },
  {
   "cell_type": "markdown",
   "metadata": {},
   "source": [
    "### Método privado que auxilia o predict:"
   ]
  },
  {
   "cell_type": "code",
   "execution_count": null,
   "metadata": {
    "collapsed": true
   },
   "outputs": [],
   "source": [
    "    \"\"\"\n",
    "        Recebe um Target (key), a coluna que ele quer analisar do X (j), \n",
    "        o valor minimo e máximo que X[i][j] deve ter (min e max).\n",
    "        \n",
    "        Retorna o total de elementos que satisfazem essa condição (cont)\n",
    "    \"\"\"\n",
    "    def __contando(self, key, j, min, max):\n",
    "        cont = 0\n",
    "        for i in range(len(self.data[key])):\n",
    "            if self.data[key][i][j] >= min and self.data[key][i][j]<= max:\n",
    "                cont += 1\n",
    "        return cont"
   ]
  },
  {
   "cell_type": "markdown",
   "metadata": {},
   "source": [
    "### Método Predict:"
   ]
  },
  {
   "cell_type": "markdown",
   "metadata": {},
   "source": [
    "- Finalmente chegamos ao que interessa. É aqui que os calculos da probabilidade serão efetuados, e o array Y de resposta será criado e retornado."
   ]
  },
  {
   "cell_type": "code",
   "execution_count": null,
   "metadata": {
    "collapsed": true
   },
   "outputs": [],
   "source": [
    "    def predict(self, X):\n",
    "        resultado = []#Armazerá as respostas\n",
    "        \n",
    "        for i in range(len(X)):\n",
    "            inicial = self.prob_inicial.copy()#Criará uma cópia, com as probabilidades iniciais já calculadas em 'learn'       \n",
    "            for j in range(len(X[i])):\n",
    "                minn = X[i][j] * (1-self.percent)#Valor minimo de proximidade\n",
    "                maxx = X[i][j] * (1+self.percent)#Valor máximo de proximidade\n",
    "                for key in inicial:\n",
    "                    #Na linha seguinte, o valor retornado pela função '__contando' será dividido por \n",
    "                    #'self.prob_aux[key]' (explicação sobre o atributo no tópico 'Método Learn'),\n",
    "                    #sendo key o valor do Target. Depois, ele multiplicará esse resultado pela prob. já existente\n",
    "                    inicial[key] *= self.__contando(key, j, minn, maxx)/self.prob_aux[key] \n",
    "            resultado.append(max(inicial, key=inicial.get))#Adiciona a 'respostas', o target com maior valor (maior probabilidade)\n",
    "        return resultado"
   ]
  },
  {
   "cell_type": "markdown",
   "metadata": {},
   "source": [
    "### Código completo abaixo (sem os comentários):"
   ]
  },
  {
   "cell_type": "code",
   "execution_count": 1,
   "metadata": {
    "collapsed": true
   },
   "outputs": [],
   "source": [
    "import numpy as np\n",
    "\n",
    "class NaiveBayes(object):\n",
    "    \n",
    "    def __init__(self, percent=0.3):\n",
    "        self.percent = percent\n",
    "        \n",
    "    def learn(self, X, Y):\n",
    "        unique, counts = np.unique(Y, return_counts=True)\n",
    "        \n",
    "        self.prob_inicial = dict(zip(unique, counts/len(Y)))\n",
    "        self.prob_aux = dict(zip(unique,counts))\n",
    "        self.data = {}\n",
    "        \n",
    "        Y2 = set(Y)\n",
    "        for i in Y2:\n",
    "            self.data[i] = []\n",
    "        for i in range(len(Y)):\n",
    "            self.data[Y[i]].append(X[i])\n",
    "            \n",
    "        return self\n",
    "    \n",
    "    def predict(self, X):\n",
    "            resultado = []\n",
    "\n",
    "            for i in range(len(X)):\n",
    "                inicial = self.prob_inicial.copy()   \n",
    "                for j in range(len(X[i])):\n",
    "                    minn = X[i][j] * (1-self.percent)\n",
    "                    maxx = X[i][j] * (1+self.percent)\n",
    "                    for key in inicial:\n",
    "                        inicial[key] *= self.__contando(key, j, minn, maxx)/self.prob_aux[key] \n",
    "                resultado.append(max(inicial, key=inicial.get))\n",
    "            return resultado\n",
    "        \n",
    "    def __contando(self, key, j, min, max):\n",
    "            cont = 0\n",
    "            for i in range(len(self.data[key])):\n",
    "                if self.data[key][i][j] >= min and self.data[key][i][j]<= max:\n",
    "                    cont += 1\n",
    "            return cont"
   ]
  },
  {
   "cell_type": "markdown",
   "metadata": {},
   "source": [
    "# 03 - KNeighbors"
   ]
  },
  {
   "cell_type": "markdown",
   "metadata": {},
   "source": [
    "- É uma técnica de classificação onde, dado um valor para 'k' (default ou não), o algoritmo verifica todos os 'k' vizinhos mais próximos e define a resposta a partir deles."
   ]
  },
  {
   "cell_type": "markdown",
   "metadata": {},
   "source": [
    "## Passo a passo da implementação "
   ]
  },
  {
   "cell_type": "markdown",
   "metadata": {},
   "source": [
    "### Criando a classe:"
   ]
  },
  {
   "cell_type": "code",
   "execution_count": null,
   "metadata": {
    "collapsed": true
   },
   "outputs": [],
   "source": [
    "class KNeighbors(object):"
   ]
  },
  {
   "cell_type": "markdown",
   "metadata": {},
   "source": [
    "### Método Construtor:"
   ]
  },
  {
   "cell_type": "markdown",
   "metadata": {},
   "source": [
    "- Receberá como argumento (opcional) um valor que será atribuído a variável 'k'. Ela é usada para identificar quantos vizinhos mais próximos devem ser verificados para prever o resultado.\n",
    "- Obs.: se esse valor não for informado, seu valor default será = None, e ele será definido no learn, a partir do dataset informado"
   ]
  },
  {
   "cell_type": "code",
   "execution_count": null,
   "metadata": {
    "collapsed": true
   },
   "outputs": [],
   "source": [
    "    def __init__(self, k=None):\n",
    "        self.k = k"
   ]
  },
  {
   "cell_type": "markdown",
   "metadata": {},
   "source": [
    "### Método Learn:"
   ]
  },
  {
   "cell_type": "markdown",
   "metadata": {},
   "source": [
    "- Receberá um conjunto de dados (X:matriz 2d, Y:array 1d), e criará atributos organizando esses dados, com intuito de permitir e otimizar a criação do método predict posteriormente."
   ]
  },
  {
   "cell_type": "code",
   "execution_count": null,
   "metadata": {
    "collapsed": true
   },
   "outputs": [],
   "source": [
    "    def learn(self, X, Y):\n",
    "        \"\"\"\n",
    "            Se k == None, ou seja, ele não for informado no método construtor, ele será definido como um valor \n",
    "        inteiro correspondente a 10% do total de elementos do dataset (len(Y)).\n",
    "        \"\"\"\n",
    "        if self.k == None:\n",
    "            self.k = int(len(Y)*0.1)\n",
    "            \n",
    "        \"\"\"\n",
    "            Criando um dicionário para organizar o dataset. Nesse caso, 'self.learn_X' será uma matriz, onde cada\n",
    "        linha será igual a coluna inteira de 'X'. Usaremos isso no predict, para facilitar os cálculos.\n",
    "        \"\"\"\n",
    "        self.X_learn = []\n",
    "        for i in range(len(X[0])):\n",
    "            lista_aux = []\n",
    "            for j in range(len(X)):\n",
    "                lista_aux.append(X[j][i])\n",
    "            self.X_learn.append(lista_aux)\n",
    "            \n",
    "        \"\"\"\n",
    "            Copiando o array 'Y', para ser usado posteriormente no predict.\n",
    "        \"\"\"\n",
    "        self.Y_learn = Y\n",
    "        \n",
    "        \"\"\"\n",
    "            Criando um dicionário, onde a key são os 'Targets' e o value será igual a 0. Será usado no predict\n",
    "        para calcular o número dos 'k' vizinhos mais próximos.\n",
    "        \"\"\"\n",
    "        self.k_inicial = {}\n",
    "        all_Y = set(Y)\n",
    "        for i in all_Y:\n",
    "            self.k_inicial[i] = 0\n",
    "            \n",
    "        return self"
   ]
  },
  {
   "cell_type": "markdown",
   "metadata": {},
   "source": [
    "### Método privado que auxilia o predict:"
   ]
  },
  {
   "cell_type": "code",
   "execution_count": null,
   "metadata": {
    "collapsed": true
   },
   "outputs": [],
   "source": [
    "    \"\"\"\n",
    "        Rertornará um array, com os 'k' targets mais próximos.\n",
    "    \"\"\"\n",
    "    def __achando_Proximos(self, linha, value):\n",
    "        linha_aux= np.abs(linha - value) \n",
    "        y_aux = self.Y_learn.copy()\n",
    "\n",
    "        y_aux = [y_aux for(linha_aux,y_aux) in sorted(zip(linha_aux,y_aux))] #Ordena y a partir de x (linha)\n",
    "\n",
    "        prox = [y_aux[i] for i in range(self.k)]#Pega os 'k' primeiros valores\n",
    "        return prox"
   ]
  },
  {
   "cell_type": "markdown",
   "metadata": {},
   "source": [
    "### Método Predict:"
   ]
  },
  {
   "cell_type": "code",
   "execution_count": null,
   "metadata": {
    "collapsed": true
   },
   "outputs": [],
   "source": [
    "    def predict(self, X):\n",
    "        resultado = []\n",
    "        for i in range(len(X)):\n",
    "            inicial = self.k_inicial.copy()#Valores zerados\n",
    "            for j in range(len(X[i])):\n",
    "                proximos = self.__achando_Proximos(self.X_learn[j], X[i][j])#proximos será um array com os 'k' prox\n",
    "                for k in proximos:\n",
    "                    inicial[k] += 1#Somando em 'inicial' a partir de 'proximos'\n",
    "            resultado.append(max(inicial, key=inicial.get))#Add em resultados, a key com maior value de 'inicial'\n",
    "        return resultado"
   ]
  },
  {
   "cell_type": "markdown",
   "metadata": {},
   "source": [
    "### Código completo abaixo (sem os comentários):"
   ]
  },
  {
   "cell_type": "code",
   "execution_count": 2,
   "metadata": {
    "collapsed": true
   },
   "outputs": [],
   "source": [
    "class KNeighbors(object):\n",
    "    def __init__(self, k=None):\n",
    "        self.k = k\n",
    "        \n",
    "    def learn(self, X, Y):\n",
    "        if self.k == None:\n",
    "            self.k = int(len(Y)*0.1)\n",
    "            \n",
    "        self.X_learn = []\n",
    "        for i in range(len(X[0])):\n",
    "            lista_aux = []\n",
    "            for j in range(len(X)):\n",
    "                lista_aux.append(X[j][i])\n",
    "            self.X_learn.append(lista_aux)\n",
    "            \n",
    "        self.Y_learn = Y\n",
    "        \n",
    "        self.k_inicial = {}\n",
    "        all_Y = set(Y)\n",
    "        for i in all_Y:\n",
    "            self.k_inicial[i] = 0\n",
    "            \n",
    "        return self\n",
    "    \n",
    "    def __achando_Proximos(self, linha, value):\n",
    "        linha_aux= np.abs(linha - value) \n",
    "        y_aux = self.Y_learn.copy()\n",
    "\n",
    "        y_aux = [y_aux for(linha_aux,y_aux) in sorted(zip(linha_aux,y_aux))] \n",
    "\n",
    "        prox = [y_aux[i] for i in range(self.k)]\n",
    "        return prox\n",
    "    \n",
    "    \n",
    "    def predict(self, X):\n",
    "        resultado = []\n",
    "        for i in range(len(X)):\n",
    "            inicial = self.k_inicial.copy()\n",
    "            for j in range(len(X[i])):\n",
    "                proximos = self.__achando_Proximos(self.X_learn[j], X[i][j])\n",
    "                for k in proximos:\n",
    "                    inicial[k] += 1\n",
    "            resultado.append(max(inicial, key=inicial.get))\n",
    "        return resultado\n",
    "    "
   ]
  },
  {
   "cell_type": "markdown",
   "metadata": {},
   "source": [
    "# 03 - Analisando os resultados "
   ]
  },
  {
   "cell_type": "markdown",
   "metadata": {},
   "source": [
    "- Agora, usaremos o 'Scikit-Learn' para importar o dataset 'The Iris flower'. A partir dele, faremos análises quantitativas e gráficas dos resultados analisando as duas implementações (Naive Bayes e KNeighbors)."
   ]
  },
  {
   "cell_type": "markdown",
   "metadata": {},
   "source": [
    "## Definindo o dataset:"
   ]
  },
  {
   "cell_type": "markdown",
   "metadata": {},
   "source": [
    "- Aqui importaremos o dataset a partir do 'Scikit-Learn'. Usaremos esse dataset como base em todas nossas análises"
   ]
  },
  {
   "cell_type": "code",
   "execution_count": 3,
   "metadata": {
    "collapsed": true
   },
   "outputs": [],
   "source": [
    "from sklearn.datasets import load_iris\n",
    "data = load_iris()"
   ]
  },
  {
   "cell_type": "markdown",
   "metadata": {},
   "source": [
    "## Comparação de erro simples:"
   ]
  },
  {
   "cell_type": "markdown",
   "metadata": {},
   "source": [
    "- Aqui, faremos uma comparaçãos simples entre o 'Naive Bayes' e 'KNeighbors'. Nela, separaremos o dataset em duas partes. A primeira será: x_train e y_train contendo 70% dos dados totais, e usaremos ela para treinar nossas classes. A segunda parte será x_test e y_test contendo os outros 30% dos dados, e usaremos o x_train para predição e y_test para comparação e cálculo da taxa de erro.\n",
    "- O random_state, nesse caso, estará definido em 43. Sua variação influência nas taxas de erros, já que diferentes conjuntos de dados serão usados para treinar e testar a classe."
   ]
  },
  {
   "cell_type": "code",
   "execution_count": 4,
   "metadata": {},
   "outputs": [
    {
     "name": "stdout",
     "output_type": "stream",
     "text": [
      "Naive Bayes: \n",
      "versicolor: incorreto\n",
      "Taxa de erro: 0.02\n",
      "\n",
      "KNeighbors: \n",
      "versicolor: incorreto\n",
      "versicolor: incorreto\n",
      "virginica: incorreto\n",
      "Taxa de erro: 0.07\n",
      "\n"
     ]
    }
   ],
   "source": [
    "def printando_Resultados(y_predict, y_original):\n",
    "    nomes = ['setosa', 'versicolor', 'virginica']\n",
    "    for i in range(len(y_predict)):\n",
    "        if y_predict[i] != y_original[i]:\n",
    "            print(\"%s: %s\"%(nomes[y_predict[i]], 'incorreto'))\n",
    "            \n",
    "    print(\"Taxa de erro: %.2f\\n\"%(np.sum(y_predict != y_original)/len(y_original)))\n",
    "\n",
    "from sklearn.model_selection import train_test_split\n",
    "X_train, X_test, y_train, y_test = train_test_split(data.data, data.target, test_size=0.3, random_state=43)\n",
    "\n",
    "NaiveB = NaiveBayes()\n",
    "KNN = KNeighbors()\n",
    "\n",
    "NaiveB.learn(X_train, y_train)\n",
    "KNN.learn(X_train, y_train)\n",
    "\n",
    "predict_NaiveB = NaiveB.predict(X_test)\n",
    "predict_KNN = KNN.predict(X_test)\n",
    "\n",
    "print(\"Naive Bayes: \")\n",
    "printando_Resultados(predict_NaiveB, y_test)\n",
    "\n",
    "print(\"KNeighbors: \")\n",
    "printando_Resultados(predict_KNN, y_test)"
   ]
  },
  {
   "cell_type": "markdown",
   "metadata": {},
   "source": [
    "## Comparação gráfica"
   ]
  },
  {
   "cell_type": "markdown",
   "metadata": {},
   "source": [
    "- Aqui criaremos alguns gráficos baseados nos resultados anteriores, com intuito de facilitar a visualização espacial dos erros.Em todos os gráficos a tabela de cores será:   \n",
    "-> Vermelho: setosa  \n",
    "-> Azul: versicolor  \n",
    "-> Verde: virginica  "
   ]
  },
  {
   "cell_type": "code",
   "execution_count": 5,
   "metadata": {
    "collapsed": true
   },
   "outputs": [],
   "source": [
    "import matplotlib.pyplot as plt\n",
    "import matplotlib\n",
    "colors = [\"red\", \"blue\", \"green\"]"
   ]
  },
  {
   "cell_type": "markdown",
   "metadata": {},
   "source": [
    "### Naive Bayes e sua análise gráfica:"
   ]
  },
  {
   "cell_type": "markdown",
   "metadata": {},
   "source": [
    "- Analisando as duas imagens percebemos que, nos dados originais, existe uma planta virginica que destoa do padrão. Ela possui um 'petal_width' bem próximo ao das versicolor. Nosso algoritmo não conseguiu perceber essa destoação e classificou a virginica como versicolor."
   ]
  },
  {
   "cell_type": "code",
   "execution_count": 6,
   "metadata": {},
   "outputs": [
    {
     "data": {
      "image/png": "[encoded data removed]",
      "text/plain": [
       "<matplotlib.figure.Figure at 0x7f78f49be940>"
      ]
     },
     "metadata": {},
     "output_type": "display_data"
    }
   ],
   "source": [
    "plt.subplot(221)\n",
    "for i in range(len(X_test)):\n",
    "    plt.plot(X_test[i][0], X_test[i][3], 'ro', color=colors[predict_NaiveB[i]])\n",
    "plt.xlabel(\"sepal length\");plt.ylabel(\"petal width\");plt.title(\"Naive Bayes\")\n",
    "\n",
    "plt.subplot(222)\n",
    "for i in range(len(X_test)):\n",
    "    plt.plot(X_test[i][0], X_test[i][3], 'ro', color=colors[y_test[i]])\n",
    "plt.xlabel(\"sepal length\");plt.ylabel(\"petal width\");plt.title(\"Original(y_test)\")\n",
    "\n",
    "\n",
    "plt.show()"
   ]
  },
  {
   "cell_type": "markdown",
   "metadata": {},
   "source": [
    "- Analisando os gráficos abaixo, percebemos que o mesmo problema citado acima acontece aqui. Existe uma planta virginica que possui um 'petal width' mais proximo da versicolor. Com isso, mais uma vez obtivemos uma classificação incorreta, devido a anormalidades que não conseguiram ser previstas pelo algortimo.\n",
    "- Outra observação a se fazer é o fato das setosas serem classificadas corretamente. Os valores tanto do 'petal width' quanto do 'sepal width' distoam bastante das demais plantas, por isso ela conseguiu ser classificada com perfeição. "
   ]
  },
  {
   "cell_type": "code",
   "execution_count": 7,
   "metadata": {},
   "outputs": [
    {
     "data": {
      "image/png": "[encoded data removed]",
      "text/plain": [
       "<matplotlib.figure.Figure at 0x7f78f49be7b8>"
      ]
     },
     "metadata": {},
     "output_type": "display_data"
    }
   ],
   "source": [
    "plt.subplot(221)\n",
    "for i in range(len(X_test)):\n",
    "    plt.plot(X_test[i][1], X_test[i][3], 'ro', color=colors[predict_NaiveB[i]])\n",
    "plt.xlabel(\"sepal width\");plt.ylabel(\"petal width\");plt.title(\"Naive Bayes\")\n",
    "\n",
    "\n",
    "plt.subplot(222)\n",
    "for i in range(len(X_test)):\n",
    "    plt.plot(X_test[i][1], X_test[i][3], 'ro', color=colors[y_test[i]])\n",
    "plt.xlabel(\"sepal width\");plt.ylabel(\"petal width\");plt.title(\"Original(y_test)\")\n",
    "\n",
    "\n",
    "plt.show()"
   ]
  },
  {
   "cell_type": "markdown",
   "metadata": {},
   "source": [
    "### KNeighbors e sua análise gráfica:"
   ]
  },
  {
   "cell_type": "code",
   "execution_count": 8,
   "metadata": {},
   "outputs": [
    {
     "data": {
      "image/png": "[encoded data removed]",
      "text/plain": [
       "<matplotlib.figure.Figure at 0x7f78f1596e10>"
      ]
     },
     "metadata": {},
     "output_type": "display_data"
    }
   ],
   "source": [
    "plt.subplot(221)\n",
    "for i in range(len(X_test)):\n",
    "    plt.plot(X_test[i][0], X_test[i][3], 'ro', color=colors[predict_KNN[i]])\n",
    "plt.xlabel(\"sepal length\");plt.ylabel(\"petal width\");plt.title(\"KNeighbors\")\n",
    "\n",
    "plt.subplot(222)\n",
    "for i in range(len(X_test)):\n",
    "    plt.plot(X_test[i][0], X_test[i][3], 'ro', color=colors[y_test[i]])\n",
    "plt.xlabel(\"sepal length\");plt.ylabel(\"petal width\");plt.title(\"Original(y_test)\")\n",
    "\n",
    "\n",
    "plt.show()"
   ]
  },
  {
   "cell_type": "code",
   "execution_count": 9,
   "metadata": {},
   "outputs": [
    {
     "data": {
      "image/png": "[encoded data removed]",
      "text/plain": [
       "<matplotlib.figure.Figure at 0x7f78f14f4f28>"
      ]
     },
     "metadata": {},
     "output_type": "display_data"
    }
   ],
   "source": [
    "plt.subplot(221)\n",
    "for i in range(len(X_test)):\n",
    "    plt.plot(X_test[i][1], X_test[i][3], 'ro', color=colors[predict_KNN[i]])\n",
    "plt.xlabel(\"sepal length\");plt.ylabel(\"petal width\");plt.title(\"KNeighbors\")\n",
    "\n",
    "plt.subplot(222)\n",
    "for i in range(len(X_test)):\n",
    "    plt.plot(X_test[i][1], X_test[i][3], 'ro', color=colors[y_test[i]])\n",
    "plt.xlabel(\"sepal length\");plt.ylabel(\"petal width\");plt.title(\"Original(y_test)\")\n",
    "\n",
    "\n",
    "plt.show()"
   ]
  },
  {
   "cell_type": "markdown",
   "metadata": {},
   "source": [
    "- Na análise do KNN, percebemos que os resultados não destoaram muito do Naive Bayes, até porque seus implementações e idéias são similares. Contudo, percebemos que, quando definimos um número 'k' de vizinhos, obtivemos mais erros que o Naive Bayes que utiliza a lógica de olhar todos em um range de uma determinada porcentagem a mais e a menos."
   ]
  },
  {
   "cell_type": "markdown",
   "metadata": {},
   "source": [
    "## Comparação de erro mais elaborada:"
   ]
  },
  {
   "cell_type": "markdown",
   "metadata": {},
   "source": [
    "- Na comparação de erro simples, nós definimos apenas um random_state na hora de splitar os dados. Isso pode resultar em uma falsa análise de erros, já que com diferentes random_state, podemos ter diferentes performaces na análise.\n",
    "- Para contornar esse problema, implementarei uma lógica simples. Farei com que a taxa de erro seja uma média aritmética simples de diferentes resultados, a partir de diferentes random_states, que nesse caso, escolhi que variem entre 0 e 10."
   ]
  },
  {
   "cell_type": "code",
   "execution_count": 12,
   "metadata": {},
   "outputs": [
    {
     "name": "stdout",
     "output_type": "stream",
     "text": [
      "Erro médio do Naive Bayes: 0.04\n",
      "\n",
      "Erro médio do KNeighbors: 0.05\n"
     ]
    }
   ],
   "source": [
    "NB_media = []\n",
    "KNN_media = []\n",
    "\n",
    "for i in range(11):\n",
    "    X_train, X_test, y_train, y_test = train_test_split(data.data, data.target, test_size=0.3, random_state=i)\n",
    "\n",
    "    NaiveB = NaiveBayes()\n",
    "    KNN = KNeighbors()\n",
    "\n",
    "    NaiveB.learn(X_train, y_train)\n",
    "    KNN.learn(X_train, y_train)\n",
    "\n",
    "    predict_NaiveB = NaiveB.predict(X_test)\n",
    "    predict_KNN = KNN.predict(X_test)\n",
    "    \n",
    "    NB_media.append(np.sum(y_test != predict_NaiveB)/len(y_test))\n",
    "    KNN_media.append(np.sum(y_test != predict_KNN)/len(y_test))\n",
    "\n",
    "print(\"Erro médio do Naive Bayes: %.2f\\n\"%(sum(NB_media)/len(NB_media)))\n",
    "print(\"Erro médio do KNeighbors: %.2f\"%(sum(KNN_media)/len(KNN_media)))"
   ]
  },
  {
   "cell_type": "markdown",
   "metadata": {},
   "source": [
    "# 04 - Conclusão:"
   ]
  },
  {
   "cell_type": "markdown",
   "metadata": {},
   "source": [
    "- Após todo o processo de implementação e análise, chegamos a conclusão que o Naive Bayes se saiu melhor que o KNeighbors para esse dataset, apesar que por uma pequena margem. Contudo, também podemos perceber a limitação das duas classes que, devido a sua simplidade, não conseguiu prever anormalidades, ou seja, os algoritmos apenas previram o que era mais óbvio.\n",
    "- Para o caso desse dataset, os algoritmos de predição tiveram um resultado satisfatório. Contudo, após entendermos e analisarmos suas limitações, vemos que o fato do classificador não assumir que as características interagem e exercem influências entre si, faz com que tanto o Naive Bayes quanto o KNeighbors não sejam os classificadores ideais para problemas mais complexos e reais."
   ]
  }
 ],
 "metadata": {
  "kernelspec": {
   "display_name": "Python 3",
   "language": "python",
   "name": "python3"
  },
  "language_info": {
   "codemirror_mode": {
    "name": "ipython",
    "version": 3
   },
   "file_extension": ".py",
   "mimetype": "text/x-python",
   "name": "python",
   "nbconvert_exporter": "python",
   "pygments_lexer": "ipython3",
   "version": "3.6.1"
  }
 },
 "nbformat": 4,
 "nbformat_minor": 2
}
